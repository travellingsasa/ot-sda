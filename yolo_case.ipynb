{
 "cells": [
  {
   "cell_type": "markdown",
   "id": "54d5e2a6",
   "metadata": {},
   "source": [
    "# SDA Coding Challenge \n",
    "**Applicant: Sasa Redzepovic**"
   ]
  },
  {
   "cell_type": "markdown",
   "id": "a46c25f7",
   "metadata": {},
   "source": [
    " ## Task introduction\n",
    "\n",
    "Import Yolo object detection output.  \n",
    " \n",
    "A Yolo bases network detects different objects with a camera. We have the output of an example execution. In \n",
    "this challenge we want to parse the process output of the example and setup a data structure for analysis.  "
   ]
  },
  {
   "cell_type": "markdown",
   "id": "9049130c",
   "metadata": {},
   "source": [
    " ## Features we would like to see:  \n",
    "1. Python based program which reads the example output attached to this task \n",
    "2. A data structure in memory to work with.   \n",
    "3. Some base statistics like: \n",
    "    1. How many object detections the run contains? \n",
    "    2. How many different objects was detected? \n",
    "    3. Is there a typical position of the objects in the camera view part. \n",
    "4. An Idea no implementation how your program would work, if the output is a stream and not a text file."
   ]
  },
  {
   "cell_type": "markdown",
   "id": "f948e19a",
   "metadata": {},
   "source": [
    "## Import packages"
   ]
  },
  {
   "cell_type": "code",
   "execution_count": 1,
   "id": "3deab6ea",
   "metadata": {},
   "outputs": [],
   "source": [
    "import re\n",
    "import io\n",
    "import os\n",
    "import numpy as np"
   ]
  },
  {
   "cell_type": "code",
   "execution_count": 2,
   "id": "ba9e401e",
   "metadata": {},
   "outputs": [],
   "source": [
    "# path to data\n",
    "file_path = \"data/pkg_dump.txt\""
   ]
  },
  {
   "cell_type": "markdown",
   "id": "e1f8c4ee",
   "metadata": {},
   "source": [
    "## 1. Python based program which reads the example output attached to this task \n",
    "## Notes:\n",
    "I detected that the output contained information from 2 demos. I decided to split the demos into 2 separat text files. I used the word \"Demo\" as a starting and stopping point for the split. I saved the 2 text files as demo0.txt and demo1.txt in the data/demo/ directory.  \n",
    "I continiued with feature 2 using demo0.  \n",
    "\n",
    "I also preprocessed the files. This was mainly done to get a nicer layout of the file when it is printed and to guide mi decision process.  \n",
    "1. Removed all double linebreaks '\\n\\n'\n",
    "2. Renamed first occurance of Object since it did not contain more information\n",
    "3. I assume that some objects have been captured within the same frame, because these objects were summarized within one \"Objects\" message. I decided to add the message object to the lines were it was missing. FPS and AVG_FPS were missing for some categories. I copied the values from the line before since I think that they are in the same frame. but see output and explanation below  \n",
    "4. I Added a linebreak to the key word FPS, this way the output was correctly aligned."
   ]
  },
  {
   "cell_type": "code",
   "execution_count": 3,
   "id": "0cacae00",
   "metadata": {},
   "outputs": [
    {
     "name": "stdout",
     "output_type": "stream",
     "text": [
      "There were 2 demos detected in the challenge text file.\n",
      "---------------\n",
      "The challenge text file was split into 2 separate text files.\n",
      "The text files were renamed and saved under ['./data/demos/demo0.txt', './data/demos/demo1.txt']\n",
      "---------------\n"
     ]
    }
   ],
   "source": [
    "from scripts.parse_doc_utils import _split_and_preprocess\n",
    "\n",
    "demos_file_path,original_demo1,preporcessed_demo1  = _split_and_preprocess(file_path)"
   ]
  },
  {
   "cell_type": "markdown",
   "id": "d9056ca9",
   "metadata": {},
   "source": [
    " ## Example output were multiple objects are detected in frame. "
   ]
  },
  {
   "cell_type": "code",
   "execution_count": 4,
   "id": "2e156e89",
   "metadata": {},
   "outputs": [
    {
     "name": "stdout",
     "output_type": "stream",
     "text": [
      "------------------------------------------------------------------------------------------------------------------------------------------------------\n",
      "Flugzeug:   95%   (left_x:  109   top_y:  36   width:  201   height:  52)\n",
      "\n",
      "FPS:15.9 \t AVG_FPS:15.7\n",
      "Objects:\n",
      "\n",
      "Flachhänger: 100% \t(left_x:  423   top_y:  437   width:  455   height:  260)\n",
      "Flugzeug:   92%   (left_x:  105   top_y:  34   width:  204   height:  57)\n",
      "\n",
      "FPS:16.0 \n",
      "------------------------------------------------------------------------------------------------------------------------------------------------------\n"
     ]
    }
   ],
   "source": [
    "# find lines\n",
    "#[print(x) for x in re.finditer(('Flugzeug'),original_demo1)]\n",
    "print('-'*150)\n",
    "print(original_demo1[10730:11000])\n",
    "print('-'*150)"
   ]
  },
  {
   "cell_type": "markdown",
   "id": "1c6f7db1",
   "metadata": {},
   "source": [
    "**Flachhänger and Flugzeug are summarised within one objects, FPS and AVG_FPS message.**"
   ]
  },
  {
   "cell_type": "markdown",
   "id": "fca3cd3c",
   "metadata": {},
   "source": [
    " ## Example output preprocessed file"
   ]
  },
  {
   "cell_type": "code",
   "execution_count": 5,
   "id": "a91b7ee7",
   "metadata": {},
   "outputs": [
    {
     "name": "stdout",
     "output_type": "stream",
     "text": [
      "------------------------------------------------------------------------------------------------------------------------------------------------------\n",
      "  456   height:  261)\n",
      "FPS: NULL \t AVG_FPS: NULL Objects: Flugzeug:   95%   (left_x:  109   top_y:  36   width:  201   height:  52) \n",
      "FPS: 15.9 \t AVG_FPS: 15.7 Objects: Flachhänger: 100% \t(left_x:  423   top_y:  437   width:  455   height:  260)\n",
      "FPS: NULL \t AVG_FPS: NULL Objects: Flugzeug:   92%   (left_x:  105   top_y:  34   width:  204   height:  57) \n",
      "FPS: 16.0 \t AVG_FPS: 15.7 Objects: Flachhänger: 100% \t(left_x:  424   top_y:  437   width:  453   height:  259)\n",
      "FPS: NULL \t AVG_FPS: NULL Objects: Flugzeug:   86%   (left_x:  109   top_y:  42   width:  207   height:  52) \n",
      "FPS: 15.9 \t AVG_FPS: 15.7 Objects: Flachhänger: 100% \t(left_x:  423   top_y:  437   width:  454   height:  259)\n",
      "FPS: NULL \t AVG_FPS: NULL Objects: Flugzeug:   91%   (left_x:  115   top_y:  45   width:  209   height:  56) \n",
      "FPS: 15.9 \t AVG_FPS: 15.7 Objects: Flachhänger: 100% \t(left_x:  421   top_y:  437   width:  456   height:  259) \n",
      "FPS: 15.9 \t AVG_FPS: 15.7 Objects: Flachhänger: 100% \t(left_x:  421   top_y:  437   width:  457   height:  259) \n",
      "FPS: 16.0 \t AVG_FPS: 15.7 Objects: Flachhänger: 100% \t(left_x:  424   top_y:  437   width:  453   height:  259) \n",
      "FPS: 15.9 \t AVG_FPS: 15.7 Objects: Flachhänger: 100% \t(left_x: \n",
      "------------------------------------------------------------------------------------------------------------------------------------------------------\n"
     ]
    }
   ],
   "source": [
    "# find lines\n",
    "#[print(x) for x in re.finditer(('Flugzeug'),preporcessed_demo1)]\n",
    "print('-'*150)\n",
    "print(preporcessed_demo1[10800:12000])\n",
    "print('-'*150)"
   ]
  },
  {
   "cell_type": "markdown",
   "id": "6685575f",
   "metadata": {},
   "source": [
    "**I addedd \"FPS: NULL  AVG_FPS: NULL Objects:\" to all lines were a Flugzeug was detected. The output looks neat and is better comprehensible for humans.** "
   ]
  },
  {
   "cell_type": "markdown",
   "id": "73e9a958",
   "metadata": {},
   "source": [
    " ## 2. A data structure in memory to work with. \n",
    " ## Notes:\n",
    "Feature 2 asks for a data structure in memory. I have decided not to use SQlite or any other database, since the instruction explicitly asked for a structure. I am unaware of any kind of special structure that might suffice this condition. I therefore assume I can use any data structure which is stored in RAM. So far as I know this includes dictionaries, list,tuples and dataframes. I feel this might be a trick question.  \n",
    "\n",
    "I build a dictionary with the following keys: \"Objects:\",\"left_x:\",\"top_y:\",\"width:\",\"height:\",\"\\nFPS:\",\"AVG_FPS:\",\"Video stream:\",\"Accuracy\"  \n",
    "The values consist of lists of strings, integers or floats.\n",
    "I read out the values for all but one variable using regular expression. The Accuracy read out is a bit hard coded. I look for % signs in the text and index 3 steps back to get the percentages.  \n",
    "\n",
    "\n",
    "\n",
    "\n",
    "\n"
   ]
  },
  {
   "cell_type": "code",
   "execution_count": 6,
   "id": "a9a9ce79",
   "metadata": {},
   "outputs": [
    {
     "name": "stdout",
     "output_type": "stream",
     "text": [
      "Keys have the same lengths\n",
      "------------------------------------------------------------------------------------------------------------------------------------------------------\n",
      "dict_keys(['Objects', 'left_x', 'top_y', 'width', 'height', 'FPS', 'AVG_FPS', 'Video stream', 'Accuracy'])\n",
      "------------------------------------------------------------------------------------------------------------------------------------------------------\n"
     ]
    }
   ],
   "source": [
    "from scripts.data_struct_utils import _build_data_struct\n",
    "\n",
    "data_struct,text = _build_data_struct(demos_file_path[0],'dict')\n",
    "print('-'*150)\n",
    "print(data_struct.keys())\n",
    "print('-'*150)"
   ]
  },
  {
   "cell_type": "markdown",
   "id": "39c79cba",
   "metadata": {},
   "source": [
    " ## 3. Some base statistics like:"
   ]
  },
  {
   "cell_type": "markdown",
   "id": "6a6658f4",
   "metadata": {},
   "source": [
    " ### 3A How many object detections the run contains?"
   ]
  },
  {
   "cell_type": "code",
   "execution_count": 7,
   "id": "3a8b1e48",
   "metadata": {},
   "outputs": [
    {
     "name": "stdout",
     "output_type": "stream",
     "text": [
      "------------------------------------------------------------------------------------------------------------------------------------------------------\n",
      "991 objects were detected if we count all objects separately.\n",
      "------------------------------------------------------------------------------------------------------------------------------------------------------\n"
     ]
    }
   ],
   "source": [
    "from scripts.data_struct_utils import _get_number_of_object_detections\n",
    "\n",
    "nr_of_obj_det = _get_number_of_object_detections(data_struct)\n",
    "\n",
    "print('-'*150)\n",
    "print(f'{nr_of_obj_det} objects were detected if we count all objects separately.')\n",
    "print('-'*150)"
   ]
  },
  {
   "cell_type": "markdown",
   "id": "e7158a3f",
   "metadata": {},
   "source": [
    "**I calculate the absolute detections over all objects here. Not sure if it would be possible to use the FPS to see if multiple objects of 1 category were present**"
   ]
  },
  {
   "cell_type": "markdown",
   "id": "5b54753f",
   "metadata": {},
   "source": [
    " ### 3B How many different objects were detected? "
   ]
  },
  {
   "cell_type": "code",
   "execution_count": 8,
   "id": "9ce4fcf7",
   "metadata": {},
   "outputs": [
    {
     "name": "stdout",
     "output_type": "stream",
     "text": [
      "------------------------------------------------------------------------------------------------------------------------------------------------------\n",
      "There were 2 unique objects: ['Flugzeug', 'Flachhänger'].\n",
      "------------------------------------------------------------------------------------------------------------------------------------------------------\n"
     ]
    }
   ],
   "source": [
    "from scripts.data_struct_utils import _get_number_of_unique_objects\n",
    "\n",
    "nr_of_obj, obj = _get_number_of_unique_objects(data_struct)\n",
    "\n",
    "print('-'*150)\n",
    "print(f'There were {nr_of_obj} unique objects: {obj}.')\n",
    "print('-'*150)"
   ]
  },
  {
   "cell_type": "markdown",
   "id": "411b6abf",
   "metadata": {},
   "source": [
    "### 3C Is there a typical position of the objects in the camera view part.\n",
    "I split the data structure into 2 categories and converted the numerical data to a np.array in order to calculate the mean position of the objects."
   ]
  },
  {
   "cell_type": "code",
   "execution_count": 9,
   "id": "bb6c8350",
   "metadata": {},
   "outputs": [
    {
     "name": "stdout",
     "output_type": "stream",
     "text": [
      "The screen resolution was 1620 x 1283.\n",
      "\n",
      "The mean position for a Flugzeug is:\n",
      "mean xy(top): (104.67, 35.33)\n",
      "mean xy(bot): (301.0, 85.33)\n",
      "mean width: 196.33\n",
      "mean hight: 50.0 \n",
      "------------------------------------------------------------------------------------------------------------------------------------------------------\n",
      "The screen resolution was 1620 x 1283.\n",
      "\n",
      "The mean position for a Flachhänger is:\n",
      "mean xy(top): (378.84, 440.61)\n",
      "mean xy(bot): (846.36, 712.74)\n",
      "mean width: 467.52\n",
      "mean hight: 272.14 \n",
      "------------------------------------------------------------------------------------------------------------------------------------------------------\n"
     ]
    }
   ],
   "source": [
    "from scripts.data_struct_utils import _get_typical_position, _get_means_for_print_output\n",
    "\n",
    "groups, mean_dict, ident_dict = _get_typical_position(data_struct)\n",
    "\n",
    "for key in groups.keys():\n",
    "    top,bot,w,h = _get_means_for_print_output(mean_dict, key)\n",
    "    print(f'The screen resolution was {data_struct[\"Video stream\"][0]} x {data_struct[\"Video stream\"][1]}.\\n\\nThe mean position for a {key} is:\\nmean xy(top): {top}\\nmean xy(bot): {bot}\\nmean width: {w}\\nmean hight: {h} ')\n",
    "    print('-'*150)\n"
   ]
  },
  {
   "cell_type": "markdown",
   "id": "7442c58c",
   "metadata": {},
   "source": [
    "**I assumed that the data was correct here so I didn't check for outlier bounding boxes. Next I would also plot all detection boxes and calculate a probability density map for each category**  \n",
    "We can see that the y positions for the Flugzeug is more on top of the screen y(35.33,85.33) compared to the Flachhänger y(440.61,712.74).\n",
    "Also the Flugzeug is narrower and flatter because of the distance to the camera."
   ]
  },
  {
   "cell_type": "markdown",
   "id": "da27a6ce",
   "metadata": {},
   "source": [
    "## Demo2 / run 2"
   ]
  },
  {
   "cell_type": "code",
   "execution_count": 10,
   "id": "64a473fc",
   "metadata": {},
   "outputs": [
    {
     "name": "stdout",
     "output_type": "stream",
     "text": [
      "Keys have the same lengths\n",
      "------------------------------------------------------------------------------------------------------------------------------------------------------\n",
      "1716 objects were detected if we count all objects separately.\n",
      "------------------------------------------------------------------------------------------------------------------------------------------------------\n",
      "------------------------------------------------------------------------------------------------------------------------------------------------------\n",
      "There were 2 unique objects: ['Flugzeug', 'Flachhänger'].\n",
      "------------------------------------------------------------------------------------------------------------------------------------------------------\n",
      "The screen resolution was 1620 x 1283.\n",
      "\n",
      "The mean position for a Flugzeug is:\n",
      "mean xy(top): (109.5, 39.25)\n",
      "mean xy(bot): (314.75, 93.5)\n",
      "mean width: 205.25\n",
      "mean hight: 54.25 \n",
      "------------------------------------------------------------------------------------------------------------------------------------------------------\n",
      "The screen resolution was 1620 x 1283.\n",
      "\n",
      "The mean position for a Flachhänger is:\n",
      "mean xy(top): (467.05, 443.82)\n",
      "mean xy(bot): (937.37, 696.33)\n",
      "mean width: 470.32\n",
      "mean hight: 252.51 \n",
      "------------------------------------------------------------------------------------------------------------------------------------------------------\n"
     ]
    }
   ],
   "source": [
    "data_struct2,text2 = _build_data_struct(demos_file_path[1],'dict')\n",
    "nr_of_obj_det2 = _get_number_of_object_detections(data_struct2)\n",
    "\n",
    "print('-'*150)\n",
    "print(f'{nr_of_obj_det2} objects were detected if we count all objects separately.')\n",
    "print('-'*150)\n",
    "nr_of_obj, obj = _get_number_of_unique_objects(data_struct)\n",
    "\n",
    "print('-'*150)\n",
    "print(f'There were {nr_of_obj} unique objects: {obj}.')\n",
    "print('-'*150)\n",
    "\n",
    "groups2, mean_dict2, ident_dict2 = _get_typical_position(data_struct2)\n",
    "\n",
    "for key in groups2.keys():\n",
    "    top,bot,w,h = _get_means_for_print_output(mean_dict2, key)\n",
    "    print(f'The screen resolution was {data_struct[\"Video stream\"][0]} x {data_struct[\"Video stream\"][1]}.\\n\\nThe mean position for a {key} is:\\nmean xy(top): {top}\\nmean xy(bot): {bot}\\nmean width: {w}\\nmean hight: {h} ')\n",
    "    print('-'*150)"
   ]
  },
  {
   "cell_type": "markdown",
   "id": "c7323ee0",
   "metadata": {},
   "source": [
    " ## 4. An Idea no implementation how your program would work, if the output is a stream and not a text file."
   ]
  },
  {
   "cell_type": "markdown",
   "id": "1297b354",
   "metadata": {},
   "source": [
    "I have no experience with steam files but I opened the text file as one. So the code should work as is? Unless I have not implemented it correctly. The benefit of streams would be that none of the data is saved locally."
   ]
  }
 ],
 "metadata": {
  "kernelspec": {
   "display_name": "Python 3",
   "language": "python",
   "name": "python3"
  },
  "language_info": {
   "codemirror_mode": {
    "name": "ipython",
    "version": 3
   },
   "file_extension": ".py",
   "mimetype": "text/x-python",
   "name": "python",
   "nbconvert_exporter": "python",
   "pygments_lexer": "ipython3",
   "version": "3.8.5"
  }
 },
 "nbformat": 4,
 "nbformat_minor": 5
}
